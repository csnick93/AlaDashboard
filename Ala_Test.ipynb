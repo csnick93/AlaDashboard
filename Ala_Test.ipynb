{
 "cells": [
  {
   "cell_type": "code",
   "execution_count": 55,
   "metadata": {},
   "outputs": [],
   "source": [
    "import matplotlib.pyplot as plt\n",
    "import numpy as np\n",
    "import pandas as pd\n",
    "import plotly.express as px\n",
    "import ipywidgets as widgets\n",
    "from ipywidgets import interact, interact_manual"
   ]
  },
  {
   "cell_type": "markdown",
   "metadata": {},
   "source": [
    "# Filtering a data table"
   ]
  },
  {
   "cell_type": "code",
   "execution_count": 42,
   "metadata": {},
   "outputs": [],
   "source": [
    "data_df = pd.read_csv('/home/nick/Downloads/test_dataset.csv')"
   ]
  },
  {
   "cell_type": "code",
   "execution_count": 43,
   "metadata": {},
   "outputs": [],
   "source": [
    "data_df = data_df.head(10000)"
   ]
  },
  {
   "cell_type": "code",
   "execution_count": 32,
   "metadata": {},
   "outputs": [
    {
     "data": {
      "application/vnd.jupyter.widget-view+json": {
       "model_id": "012769c26beb4360972ca78c2c8b7d2a",
       "version_major": 2,
       "version_minor": 0
      },
      "text/plain": [
       "interactive(children=(IntSlider(value=7, description='quantity', max=14, min=1), FloatSlider(value=895.0219999…"
      ]
     },
     "metadata": {},
     "output_type": "display_data"
    }
   ],
   "source": [
    "@interact\n",
    "def show_articles_more_than(quantity= (data_df['Quantity'].min(),data_df['Quantity'].max(),1), \n",
    "                            profit=(data_df['Profit'].min(),data_df['Profit'].max(),5),\n",
    "                            customer_name=data_df['Customer Name'].unique()):\n",
    "    return data_df[(data_df['Quantity'] >= quantity) &\n",
    "                  (data_df['Profit'] >= profit) &\n",
    "                  (data_df['Customer Name'].eq(customer_name))]"
   ]
  },
  {
   "cell_type": "markdown",
   "metadata": {},
   "source": [
    "# Interactive Plots"
   ]
  },
  {
   "cell_type": "code",
   "execution_count": 57,
   "metadata": {},
   "outputs": [
    {
     "data": {
      "application/vnd.jupyter.widget-view+json": {
       "model_id": "2c73a806f853478f91da8e14c0448b9a",
       "version_major": 2,
       "version_minor": 0
      },
      "text/plain": [
       "interactive(children=(IntSlider(value=7, description='quantity', max=14, min=1), FloatSlider(value=895.0219999…"
      ]
     },
     "metadata": {},
     "output_type": "display_data"
    }
   ],
   "source": [
    "@interact\n",
    "def show_articles_more_than(quantity= (data_df['Quantity'].min(),data_df['Quantity'].max(),1), \n",
    "                            profit=(data_df['Profit'].min(),data_df['Profit'].max(),5),\n",
    "                            customer_name=data_df['Customer Name'].unique()):\n",
    "    df = data_df[(data_df['Quantity'] >= quantity) &\n",
    "                  (data_df['Profit'] >= profit) &\n",
    "                  (data_df['Customer Name'].eq(customer_name))]\n",
    "    if df.shape[0] !=0:\n",
    "        fig = px.bar(df, x=\"Category\", y=\"Sales\", color='Sub-Category')\n",
    "        fig.update_layout(title=customer_name)\n",
    "        fig.show()\n",
    "    else:\n",
    "        print('empty dataframe')"
   ]
  },
  {
   "cell_type": "code",
   "execution_count": null,
   "metadata": {},
   "outputs": [],
   "source": []
  }
 ],
 "metadata": {
  "kernelspec": {
   "display_name": "Python 3",
   "language": "python",
   "name": "python3"
  },
  "language_info": {
   "codemirror_mode": {
    "name": "ipython",
    "version": 3
   },
   "file_extension": ".py",
   "mimetype": "text/x-python",
   "name": "python",
   "nbconvert_exporter": "python",
   "pygments_lexer": "ipython3",
   "version": "3.6.9"
  }
 },
 "nbformat": 4,
 "nbformat_minor": 4
}
